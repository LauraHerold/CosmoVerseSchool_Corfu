{
 "cells": [
  {
   "cell_type": "markdown",
   "metadata": {
    "id": "MJI77bs4KHtw"
   },
   "source": [
    "# From $\\Lambda$CDM to EDE -- Hands-on Session 1"
   ]
  },
  {
   "cell_type": "markdown",
   "metadata": {
    "id": "79eRHecsKlx-"
   },
   "source": [
    "CosmoVerse Summer School Corfu -- May 13 - 18, 2024\n",
    "\n",
    "Author: Laura Herold"
   ]
  },
  {
   "cell_type": "markdown",
   "metadata": {
    "id": "M7-wwaD5Ks9Y"
   },
   "source": [
    "In this notebook, we are going to explore how the composition of the universe evolves within the $\\Lambda$CDM model and you will be able to check your analytical approximations.\n",
    "\n",
    "**Requirements:**\n",
    "- Install `CLASS` following the instructions on the [CLASS website](https://lesgourg.github.io/class_public/class.html) or the [CLASS github](https://github.com/lesgourg/class_public).\n",
    "- For plotting, latex is useful but not strictly necessary"
   ]
  },
  {
   "cell_type": "markdown",
   "metadata": {
    "id": "opJV0sfkagio"
   },
   "source": [
    "# Part 1 - Warm-up"
   ]
  },
  {
   "cell_type": "markdown",
   "metadata": {
    "id": "tNeA1ZWULF3Y"
   },
   "source": [
    "First of all, let's import the main python packages that we will need:"
   ]
  },
  {
   "cell_type": "code",
   "execution_count": null,
   "metadata": {
    "id": "ARr2XUXgaeTK"
   },
   "outputs": [],
   "source": [
    "import matplotlib\n",
    "import matplotlib.pyplot as plt\n",
    "import numpy as np\n",
    "from classy import Class\n",
    "%matplotlib inline\n",
    "%config InlineBackend.figure_format='retina'"
   ]
  },
  {
   "cell_type": "markdown",
   "metadata": {
    "id": "RvH64atiPSSa"
   },
   "source": [
    "First of all, let's create an instance of the class \"Class\":"
   ]
  },
  {
   "cell_type": "code",
   "execution_count": null,
   "metadata": {
    "id": "FRKS0VPfNm0d"
   },
   "outputs": [],
   "source": [
    "cosmo = Class()"
   ]
  },
  {
   "cell_type": "markdown",
   "metadata": {
    "id": "CeBMjbmyPiUr"
   },
   "source": [
    "Now, we are ready to use CLASS. CLASS can be used to predict cosmological observables using a **$\\Lambda$CDM cosmology**. Some other cosmologies are also present in these codes, for example (late-time) dark energy, quintessence, different primordial power spectrum, warm dark matter, and more.\n",
    "\n",
    "If you want to use a cosmology, which is not implemented in the main CLASS code, it is possible to modify CLASS to include this cosmology. There are many codes available on github including beyond-$\\Lambda$CDM models. We will see an example later."
   ]
  },
  {
   "cell_type": "markdown",
   "metadata": {
    "id": "AenAhG87gfOr"
   },
   "source": [
    "Let's use the $\\Lambda$CDM model for now. The LCDM model can be parameterised by six parameters:\n",
    "- $\\omega_\\mathrm{cdm}$: physical energy density in cold dark matter, $\\omega_\\mathrm{cdm} = h^2 \\Omega_\\mathrm{cdm}$\n",
    "- $\\omega_\\mathrm{b}$: ?\n",
    "- $h$: ?\n",
    "- $A_s$: ?\n",
    "- $n_s$: ?\n",
    "- $\\tau_\\mathrm{reio}$: ?\n",
    "\n",
    "**<font color='tomato'>(a) Warm-up exercise:</font>** Double-click on this cell and add a desciption to each of the $\\Lambda$CDM parameters above (as was already done for $\\omega_\\mathrm{cdm}$)."
   ]
  },
  {
   "cell_type": "markdown",
   "metadata": {
    "id": "d3PftknLlRWz"
   },
   "source": [
    "Let's fix the values for the $\\Lambda$CDM parameters in CLASS:"
   ]
  },
  {
   "cell_type": "code",
   "execution_count": null,
   "metadata": {
    "id": "23oIE_H9Uekz"
   },
   "outputs": [],
   "source": [
    "cosmo.set({'omega_b':0.022383,'omega_cdm':0.12011,'h':0.6732,'ln_A_s_1e10':3.0448,'n_s':0.96605,'tau_reio':0.0543})"
   ]
  },
  {
   "cell_type": "markdown",
   "metadata": {
    "id": "cX6MmbJFl4wN"
   },
   "source": [
    "Moreover, we can set other physical or technical parameters:"
   ]
  },
  {
   "cell_type": "code",
   "execution_count": null,
   "metadata": {
    "id": "YVSSKPSrFiUW"
   },
   "outputs": [],
   "source": [
    "cosmo.set({'output':'tCl,pCl,lCl,mPk','lensing':'yes','P_k_max_1/Mpc':3.0, 'temperature_contributions':'eisw, lisw, dop, pol'})"
   ]
  },
  {
   "cell_type": "markdown",
   "metadata": {
    "id": "mCLNW6kMmmBU"
   },
   "source": [
    "All parameters that we do not specify here are fixed to the default values in the \".ini\" file of our CLASS installation. An alternative way of setting the cosmological parameters is to change the \".ini\" file directly.\n",
    "\n",
    "There are many alternative parameterisation of the $\\Lambda$CDM model, e.g. one can set $\\Omega_\\mathrm{CDM}$ instead of $\\omega_\\mathrm{cdm}$, or one can set $\\theta_s$ instead of $h$, where $\\theta_s$ is the angular size of the sound horizon. CLASS understands many different parameterisations of the $\\Lambda$CDM model.\n",
    "\n",
    "**<font color='tomato'>(b) Exercise:</font>** To see which parameterisations are available, go to the [class_public](https://github.com/lesgourg/class_public) github repository (or your local CLASS installation) and open the file \"explanatory.ini\". The file contains an explanation of all parameters, which are understood by CLASS, and their default values. If you don't know what the parameters mean that we specified in the cell above, look it up in the \"explanatory.ini\" file!"
   ]
  },
  {
   "cell_type": "markdown",
   "metadata": {
    "id": "O663-a6fskoT"
   },
   "source": [
    "Let's compute the cosmology with CLASS and obtain background quantities:"
   ]
  },
  {
   "cell_type": "code",
   "execution_count": null,
   "metadata": {
    "id": "ehbJ985YiNaq"
   },
   "outputs": [],
   "source": [
    "cosmo.compute()\n",
    "ba = cosmo.get_background()"
   ]
  },
  {
   "cell_type": "markdown",
   "metadata": {
    "id": "65Boo6HT9D36"
   },
   "source": [
    "# Part 2 - History of the universe"
   ]
  },
  {
   "cell_type": "markdown",
   "metadata": {
    "id": "tBKozREh9PxV"
   },
   "source": [
    "With CLASS successfully initialized, we are now ready to compute interesting quantities."
   ]
  },
  {
   "cell_type": "markdown",
   "metadata": {
    "id": "rfteU4pMDUBR"
   },
   "source": [
    "To get an idea which quantities we can compute with CLASS, we can type help(cosmo). This will print a long list of all the options. Skim if you find somthing interesting and try it out! (To minimize the list, click on the square with the arrow below the run botton.)"
   ]
  },
  {
   "cell_type": "code",
   "execution_count": null,
   "metadata": {
    "id": "q-5hyHYkDX9x"
   },
   "outputs": [],
   "source": [
    "help(cosmo)"
   ]
  },
  {
   "cell_type": "markdown",
   "metadata": {
    "id": "yhOMqVt0Dwj-"
   },
   "source": [
    "**<font color='tomato'>(c) Exercise:</font>** Let's compute the redshift of matter-radiation equality $z_\\mathrm{eq}$. Find it in the list above and compute in the cell below. Does it match with what you computed analytically before?"
   ]
  },
  {
   "cell_type": "code",
   "execution_count": null,
   "metadata": {
    "id": "nwCKymH7Elhm"
   },
   "outputs": [],
   "source": [
    "# Compute redshift of equality"
   ]
  },
  {
   "cell_type": "markdown",
   "metadata": {
    "id": "6gFOdewCFAyj"
   },
   "source": [
    "With CLASS it is very easy to plot the evolution of the different components of the universe. Let's plot the total energy content:"
   ]
  },
  {
   "cell_type": "code",
   "execution_count": null,
   "metadata": {
    "id": "rHLl5HA6FWRX"
   },
   "outputs": [],
   "source": [
    "plt.figure()\n",
    "plt.xscale('log')\n",
    "plt.yscale('log')\n",
    "plt.xlim([1e-2,2e4])\n",
    "plt.ylim([5e-10, 3e6])\n",
    "plt.xlabel('$z$')\n",
    "plt.ylabel(r'$\\rho(z)$')\n",
    "plt.plot(ba['z'],ba['(.)rho_tot'], c='black', label='total', ls=\"-\")\n",
    "# add radiation\n",
    "# add matter\n",
    "# add cosmological constant\n",
    "plt.legend()\n",
    "plt.show()"
   ]
  },
  {
   "cell_type": "markdown",
   "metadata": {
    "id": "RYEgIaHPHX-Y"
   },
   "source": [
    "**<font color='tomato'>(d) Exercise:</font>** So, how do the individual components evolve? In the cell above, add $\\rho(z)$ for the different components:\n",
    "- matter: consists of baryons (label: `'(.)rho_b'`) and cold dark matter (`'(.)rho_cdm'`)\n",
    "- radiation: consits of photons (`'(.)rho_g'`) and ultra-relativistic species, i.e. neutrinos (`'(.)rho_ur'`)\n",
    "- cosmological constant (`'(.)rho_lambda'`)\n",
    "\n",
    "It is important that plots in papers look nice, so start to practice making nice plots! First of all, choose your colors wisely. Here is a [list of matplotlib colors](https://matplotlib.org/stable/gallery/color/named_colors.html).\n",
    "You can also use different line styles by setting `ls`, e.g. `ls=\"--\"` for dashed, `ls=\":\"` for dotted, etc. Moreover, give your lines meaningful labels via the `label` flag.\n",
    "\n",
    "You can run the cell below to see all keys of the background:"
   ]
  },
  {
   "cell_type": "code",
   "execution_count": null,
   "metadata": {
    "id": "IUzOPnzmIWpb"
   },
   "outputs": [],
   "source": [
    "ba.keys()"
   ]
  },
  {
   "cell_type": "markdown",
   "metadata": {
    "id": "bZM3gfnGNOsN"
   },
   "source": [
    "**<font color='tomato'>(e) Exercise:</font>** In the cell below, make the same plot but for the fractional energy densities: $$\\frac{\\Omega_i(z)}{\\Omega_\\mathrm{tot}(z)} = \\frac{\\rho_i(z)}{\\rho_\\mathrm{tot}(z)}.$$\n",
    "\n",
    "You will be able to clearly distingiush the radiation-dominated, matter-dominated and $\\Lambda$-dominated epochs of the universe."
   ]
  },
  {
   "cell_type": "code",
   "execution_count": null,
   "metadata": {
    "id": "Lc-2-EBhNlxo"
   },
   "outputs": [],
   "source": [
    "plt.figure()\n",
    "plt.xscale('log')\n",
    "plt.xlim([1e-2,2e4])\n",
    "plt.ylim([0, 1])\n",
    "plt.xlabel('$z$')\n",
    "plt.ylabel(r'$\\Omega(z)$')\n",
    "# add radiation\n",
    "# add matter\n",
    "# add cosmological constant\n",
    "plt.legend()\n",
    "plt.show()"
   ]
  },
  {
   "cell_type": "markdown",
   "metadata": {
    "id": "03uulCVRPp33"
   },
   "source": [
    "Remember all the distances we discussed in the lecture? Let's see how the distances differ as a function of redshift!"
   ]
  },
  {
   "cell_type": "code",
   "execution_count": null,
   "metadata": {
    "id": "P_2M4ntWQD46"
   },
   "outputs": [],
   "source": [
    "plt.figure()\n",
    "plt.xscale('log')\n",
    "plt.yscale('log')\n",
    "plt.xlim([1e-2,2e4])\n",
    "plt.ylim([1e1, 1e6])\n",
    "plt.xlabel('$z$')\n",
    "plt.ylabel('distance')\n",
    "plt.plot(ba['z'],ba['comov. dist.'], c='black', label='comov. dist.', ls=\"-\")\n",
    "# add angular diameter distance\n",
    "# add luminosity distance\n",
    "plt.legend()\n",
    "plt.show()"
   ]
  },
  {
   "cell_type": "markdown",
   "metadata": {
    "id": "qucDR8HHRg3L"
   },
   "source": [
    "**<font color='tomato'>(f) Exercise:</font>**  Use the information about the keys of `ba` to add the angular diameter distance and luminosity distance in the plot above!\n",
    "\n",
    "The result might surprise you. Discuss with your neighbour and try to understand what you see."
   ]
  }
 ],
 "metadata": {
  "colab": {
   "collapsed_sections": [
    "opJV0sfkagio",
    "65Boo6HT9D36"
   ],
   "provenance": []
  },
  "kernelspec": {
   "display_name": "Python 3",
   "language": "python",
   "name": "python3"
  },
  "language_info": {
   "codemirror_mode": {
    "name": "ipython",
    "version": 3
   },
   "file_extension": ".py",
   "mimetype": "text/x-python",
   "name": "python",
   "nbconvert_exporter": "python",
   "pygments_lexer": "ipython3",
   "version": "3.7.4"
  }
 },
 "nbformat": 4,
 "nbformat_minor": 1
}
