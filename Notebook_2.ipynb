{
 "cells": [
  {
   "cell_type": "markdown",
   "metadata": {
    "id": "MJI77bs4KHtw"
   },
   "source": [
    "# From $\\Lambda$CDM to EDE -- Hands-on Session 2\n"
   ]
  },
  {
   "cell_type": "markdown",
   "metadata": {
    "id": "79eRHecsKlx-"
   },
   "source": [
    "CosmoVerse Summer School Corfu -- May 13 - 18, 2024\n",
    "\n",
    "Author: Laura Herold"
   ]
  },
  {
   "cell_type": "markdown",
   "metadata": {
    "id": "M7-wwaD5Ks9Y"
   },
   "source": [
    "In this notebook, we are going to compute CMB power spectra and compare them to real data sets. We are going to explore how Early Dark Energy affects cosmological observables and how it could resolve the Hubble tension.\n",
    "\n",
    "**Requirements:**\n",
    "- Install `CLASS_EDE` following the instructions on [github](https://github.com/mwt5345/class_ede).\n",
    "- For plotting, latex is useful but not strictly necessary"
   ]
  },
  {
   "cell_type": "markdown",
   "metadata": {
    "id": "opJV0sfkagio"
   },
   "source": [
    "# Part 1 - $\\Lambda$CDM"
   ]
  },
  {
   "cell_type": "markdown",
   "metadata": {
    "id": "tNeA1ZWULF3Y"
   },
   "source": [
    "First of all, let's import the main python packages that we will need:"
   ]
  },
  {
   "cell_type": "code",
   "execution_count": null,
   "metadata": {
    "id": "ARr2XUXgaeTK"
   },
   "outputs": [],
   "source": [
    "import matplotlib\n",
    "import matplotlib.pyplot as plt\n",
    "import numpy as np\n",
    "from classy import Class\n",
    "%matplotlib inline\n",
    "%config InlineBackend.figure_format='retina'"
   ]
  },
  {
   "cell_type": "markdown",
   "metadata": {
    "id": "AU97wt4_ca0u"
   },
   "source": [
    "**EDE**:\n",
    "\n",
    "This time we will use a modified version of [CLASS](https://lesgourg.github.io/class_public/class.html), which allows to model early dark energy.\n",
    "\n",
    "There are two codes on github that allow to do this:\n",
    "- [AxiCLASS](https://github.com/PoulinV/AxiCLASS),\n",
    "- [CLASS_EDE](https://github.com/mwt5345/class_ede/tree/master).\n",
    "\n",
    "We will use CLASS_EDE here."
   ]
  },
  {
   "cell_type": "markdown",
   "metadata": {
    "id": "Xq5VQOUVAgQX"
   },
   "source": [
    "We can use CLASS_EDE in the same way as CLASS. If we do not set the EDE parameters, all quantities are computed in the $\\Lambda$CDM model. In the first part of this notebook, we will do exactly that: we will compute the CMB power spectra within $\\Lambda$CDM. Later, in part 2, we will compare our results to the EDE model."
   ]
  },
  {
   "cell_type": "markdown",
   "metadata": {
    "id": "zyjZ1xLT_4NI"
   },
   "source": [
    "Let's create an instance of the class \"Class\":"
   ]
  },
  {
   "cell_type": "code",
   "execution_count": null,
   "metadata": {
    "id": "FRKS0VPfNm0d"
   },
   "outputs": [],
   "source": [
    "LCDM = Class()"
   ]
  },
  {
   "cell_type": "markdown",
   "metadata": {
    "id": "d3PftknLlRWz"
   },
   "source": [
    "Let's fix the values for the $\\Lambda$CDM parameters and some technical parameters in CLASS. We fix them to the $\\Lambda$CDM mean parameters obtained in the [*Planck* 2018 paper](https://arxiv.org/pdf/1807.06209.pdf) (second column of Table 1).\n",
    "\n",
    "As mentioned earlier, we do not set the EDE parameters here, hence every quantity is computed within $\\Lambda$CDM."
   ]
  },
  {
   "cell_type": "code",
   "execution_count": null,
   "metadata": {
    "id": "23oIE_H9Uekz"
   },
   "outputs": [],
   "source": [
    "LCDM.set({'omega_b':0.02237,\n",
    "          'omega_cdm':0.1200,\n",
    "          'h':67.36/100.,\n",
    "          'ln10^{10}A_s':3.044,\n",
    "          'n_s':0.9649,\n",
    "          'tau_reio':0.0544})\n",
    "LCDM.set({'output':'tCl,pCl,lCl,mPk','lensing':'yes','P_k_max_1/Mpc':3.0})"
   ]
  },
  {
   "cell_type": "markdown",
   "metadata": {
    "id": "O663-a6fskoT"
   },
   "source": [
    "Let's compute some CMB power spectra! The CMB power spectrum is usually quoted as $C_\\ell$'s, which give the variance in the CMB fluctuations at the multipole $\\ell$."
   ]
  },
  {
   "cell_type": "code",
   "execution_count": null,
   "metadata": {
    "id": "ehbJ985YiNaq"
   },
   "outputs": [],
   "source": [
    "LCDM.compute()\n",
    "cls_LCDM = LCDM.lensed_cl(2500)\n",
    "print(cls_LCDM.keys())"
   ]
  },
  {
   "cell_type": "markdown",
   "metadata": {
    "id": "ErjK7PCrwS3O"
   },
   "source": [
    "There are power spectra in temperature (TT), E-mode and B-mode polarization (EE, BB) and their cross-correlation (TE). We are mainly interested in the TT, TE, and EE power spectra since these are well measured by the *Planck* or WMAP satellite experiments."
   ]
  },
  {
   "cell_type": "code",
   "execution_count": null,
   "metadata": {
    "id": "8DX2LMNhnwyM"
   },
   "outputs": [],
   "source": [
    "Cl_TT_LCDM = cls_LCDM['tt'][2:]\n",
    "Cl_TE_LCDM = cls_LCDM['te'][2:]\n",
    "Cl_EE_LCDM = cls_LCDM['ee'][2:]\n",
    "ll_LCDM = cls_LCDM['ell'][2:]"
   ]
  },
  {
   "cell_type": "markdown",
   "metadata": {
    "id": "E_ZgJvbc1ziJ"
   },
   "source": [
    "It is common to plot the power spectrum multiplied by a $\\ell(\\ell+1)$-pre-factor: $D_\\ell = \\frac{\\ell (\\ell+1)}{2\\pi} C_\\ell$\n",
    "\n",
    "Let's plot the $D_\\ell$ power spectrum in TT:"
   ]
  },
  {
   "cell_type": "code",
   "execution_count": null,
   "metadata": {
    "id": "I0QOdruH14WO"
   },
   "outputs": [],
   "source": [
    "plt.title(\"TT\")\n",
    "plt.plot(ll_LCDM, ll_LCDM*(ll_LCDM+1)*Cl_TT_LCDM/(2*np.pi))\n",
    "plt.xlabel(r\"$\\ell$\")\n",
    "plt.ylabel(r\"$\\ell(\\ell+1)\\,C^\\mathrm{TT}_\\ell/(2\\pi)$\")\n",
    "plt.rcParams[\"figure.figsize\"] = (7,5)"
   ]
  },
  {
   "cell_type": "markdown",
   "metadata": {
    "id": "p9fFWyY25WbK"
   },
   "source": [
    "Now, we want to compare our theory predictions of the CMB power spectrum to real *Planck* data. For that, let's first have a look at the [*Planck* 2018 paper](https://arxiv.org/pdf/1807.06209.pdf). In Fig. 1 of the paper, you can see the TT power spectrum.\n",
    "\n",
    "The shape of the TT power spectrum we plotted with CLASS looks good but the $y$-axis is off. This is because in the *Planck* paper, they use $\\mu$K units while CLASS outputs the dimensionless power spectrum."
   ]
  },
  {
   "cell_type": "markdown",
   "metadata": {
    "id": "yX-JZkuvEXeo"
   },
   "source": [
    "Let's get the CMB temperature from CLASS and\n",
    "save the $D_\\ell$'s in $\\mu$K units:"
   ]
  },
  {
   "cell_type": "code",
   "execution_count": null,
   "metadata": {
    "id": "yHdtKWUfEVnG"
   },
   "outputs": [],
   "source": [
    "T_CMB = LCDM.T_cmb() * 1e6 # CLASS outputs T_CMB in K, but we want muK\n",
    "Dl_TT_LCDM = ll_LCDM*(ll_LCDM+1)*Cl_TT_LCDM/(2*np.pi)*T_CMB**2\n",
    "Dl_TE_LCDM = ll_LCDM*(ll_LCDM+1)*Cl_TE_LCDM/(2*np.pi)*T_CMB**2\n",
    "Dl_EE_LCDM = ll_LCDM*(ll_LCDM+1)*Cl_EE_LCDM/(2*np.pi)*T_CMB**2"
   ]
  },
  {
   "cell_type": "markdown",
   "metadata": {
    "id": "yadIsDJc7dP9"
   },
   "source": [
    "Now, we want to directly compare to the *measured* CMB power spectra. Here, we will use foreground- and nuisance marginalized spectra, i.e. instrument noise and foreground effects from foreground sources like: point sources, cosmic infrared background, Sunyaev-Zeldovic effect, and dust, have been taken into account already.\n",
    "\n",
    "You can get these files from the `plik_lite` likelihood of ESA's [*Planck* legacy archive](http://pla.esac.esa.int/pla/#home). For your convenience, I also copied them to [my github](https://github.com/LauraHerold/CosmoVerseSchool_Corfu/raw/main/plik_lite/). If you haven't done so already, download them to your computer and adapt the path to the folder below:"
   ]
  },
  {
   "cell_type": "code",
   "execution_count": null,
   "metadata": {},
   "outputs": [],
   "source": [
    "fn =\"plik_lite\""
   ]
  },
  {
   "cell_type": "markdown",
   "metadata": {
    "id": "_4itR34A7gJF"
   },
   "source": [
    "Let's read the power spectra from file:"
   ]
  },
  {
   "cell_type": "code",
   "execution_count": null,
   "metadata": {
    "id": "e_TOjJr27p2c"
   },
   "outputs": [],
   "source": [
    "Cl_matrix = np.loadtxt(fn+\"/cl_cmb_plik_v22.dat\").T\n",
    "lls_Planck, Cls_Planck, sigmas_Planck = Cl_matrix"
   ]
  },
  {
   "cell_type": "markdown",
   "metadata": {
    "id": "4GkPGVrvgrJ6"
   },
   "source": [
    "The file is one big vector containing the TT, TE and EE power spectra:"
   ]
  },
  {
   "cell_type": "code",
   "execution_count": null,
   "metadata": {
    "id": "dYNqdL6fg0Tb"
   },
   "outputs": [],
   "source": [
    "ll_TT_Planck = lls_Planck[0:215]\n",
    "Cl_TT_Planck = Cls_Planck[0:215]\n",
    "sigma_ClTT_Planck = sigmas_Planck[0:215]\n",
    "\n",
    "ll_TE_Planck = lls_Planck[215:414]\n",
    "Cl_TE_Planck = Cls_Planck[215:414]\n",
    "sigma_ClTE_Planck = sigmas_Planck[215:414]\n",
    "\n",
    "ll_EE_Planck = lls_Planck[414:613]\n",
    "Cl_EE_Planck = Cls_Planck[414:613]\n",
    "sigma_ClEE_Planck = sigmas_Planck[414:613]"
   ]
  },
  {
   "cell_type": "markdown",
   "metadata": {
    "id": "ZL5TgTzthL6s"
   },
   "source": [
    "Let's compute the $D_\\ell$'s as well:"
   ]
  },
  {
   "cell_type": "code",
   "execution_count": null,
   "metadata": {
    "id": "VJ54l-MkhR2z"
   },
   "outputs": [],
   "source": [
    "Dl_TT_Planck = ll_TT_Planck * (ll_TT_Planck+1) / (2.*np.pi) * Cl_TT_Planck\n",
    "Dl_TE_Planck = ll_TE_Planck * (ll_TE_Planck+1) / (2.*np.pi) * Cl_TE_Planck\n",
    "Dl_EE_Planck = ll_EE_Planck * (ll_EE_Planck+1) / (2.*np.pi) * Cl_EE_Planck"
   ]
  },
  {
   "cell_type": "markdown",
   "metadata": {
    "id": "opBzfbNsj0fd"
   },
   "source": [
    "And rescale the errorbars:"
   ]
  },
  {
   "cell_type": "code",
   "execution_count": null,
   "metadata": {
    "id": "uAcDX-FKj2bX"
   },
   "outputs": [],
   "source": [
    "sigma_TT_Planck = ll_TT_Planck * (ll_TT_Planck+1) / (2.*np.pi) * sigma_ClTT_Planck\n",
    "sigma_TE_Planck = ll_TE_Planck * (ll_TE_Planck+1) / (2.*np.pi) * sigma_ClTE_Planck\n",
    "sigma_EE_Planck = ll_EE_Planck * (ll_EE_Planck+1) / (2.*np.pi) * sigma_ClEE_Planck"
   ]
  },
  {
   "cell_type": "markdown",
   "metadata": {
    "id": "dCwKVnlyF4bL"
   },
   "source": [
    "Let's plot both the TT power spectra measured by *Planck* and our theory predictions that we computed with CLASS:"
   ]
  },
  {
   "cell_type": "code",
   "execution_count": null,
   "metadata": {
    "id": "4JSMc068383H"
   },
   "outputs": [],
   "source": [
    "plt.title(\"TT\")\n",
    "plt.plot(ll_LCDM, Dl_TT_LCDM, label=\"Theory prediction CLASS\")\n",
    "plt.errorbar(ll_TT_Planck, Dl_TT_Planck, sigma_TT_Planck, ls=\"\", marker=\".\", label=r\"Planck data\")\n",
    "plt.xlabel(r\"$\\ell$\")\n",
    "plt.ylabel(r\"$\\ell(\\ell+1)\\,C^\\mathrm{TT}_\\ell/(2\\pi)$\")\n",
    "plt.rcParams[\"figure.figsize\"] = (7,5)\n",
    "plt.legend()\n",
    "plt.show()"
   ]
  },
  {
   "cell_type": "markdown",
   "metadata": {
    "id": "Tsk2mr1hLgAC"
   },
   "source": [
    "Let's also plot the TE polarization power spectra and compare them to *Planck* data:"
   ]
  },
  {
   "cell_type": "code",
   "execution_count": null,
   "metadata": {
    "id": "gSzBZx5rZ8t-"
   },
   "outputs": [],
   "source": [
    "plt.title(\"TE\")\n",
    "plt.plot(ll_LCDM, Dl_TE_LCDM, label=\"Theory prediction CLASS\")\n",
    "plt.errorbar(ll_TE_Planck, Dl_TE_Planck, sigma_TE_Planck, ls=\"\", marker=\".\", label=r\"Planck data\")\n",
    "plt.xlabel(r\"$\\ell$\")\n",
    "plt.ylabel(r\"$\\ell(\\ell+1)\\,C^\\mathrm{TE}_\\ell/(2\\pi)$\")\n",
    "plt.rcParams[\"figure.figsize\"] = (7,5)\n",
    "plt.legend()\n",
    "plt.show()"
   ]
  },
  {
   "cell_type": "markdown",
   "metadata": {
    "id": "rNSg_bMvMcqx"
   },
   "source": [
    "And the same for EE:"
   ]
  },
  {
   "cell_type": "code",
   "execution_count": null,
   "metadata": {
    "id": "Y37THTfCMW4M"
   },
   "outputs": [],
   "source": [
    "plt.title(\"EE\")\n",
    "plt.plot(ll_LCDM, Dl_EE_LCDM, label=\"Theory prediction CLASS\")\n",
    "plt.errorbar(ll_EE_Planck, Dl_EE_Planck, sigma_EE_Planck, ls=\"\", marker=\".\", label=r\"Planck data\")\n",
    "plt.xlabel(r\"$\\ell$\")\n",
    "plt.ylabel(r\"$\\ell(\\ell+1)\\,C^\\mathrm{EE}_\\ell/(2\\pi)$\")\n",
    "plt.rcParams[\"figure.figsize\"] = (7,5)\n",
    "plt.legend()\n",
    "plt.show()"
   ]
  },
  {
   "cell_type": "markdown",
   "metadata": {
    "id": "74vNH0Vnk2E9"
   },
   "source": [
    "The theory predictions fit the *Planck* data points remarkably well!"
   ]
  },
  {
   "cell_type": "markdown",
   "metadata": {
    "id": "eA7pBeXzl_GT"
   },
   "source": [
    "This is because we used the $\\Lambda$CDM mean parameters obtained in the [*Planck* 2018 paper](https://arxiv.org/pdf/1807.06209.pdf) (second column of Table 1). In the following, we want to explore how the theory prediction changes when changing certain $\\Lambda$CDM parameters."
   ]
  },
  {
   "cell_type": "markdown",
   "metadata": {
    "id": "Ng57KAUnmvdE"
   },
   "source": [
    "**<font color='Crimson'>(a) Exercise:</font>** In the two cells below you will write your own code to explore the effect of different cosmological parameters. Follow these steps:\n",
    "1.   Initialize a new Class object \"test\" with `test = Class()`\n",
    "2.   Set the LCDM parameters to the *Planck* bestfit cosmology as we did above\n",
    "3.   However, instead of setting 'h', we will fix the angular scale of the sound horizon, $\\theta_s = \\frac{r_s}{D_A(z^*)}$, to the Planck bestfit value. So remove the line `'h':0.6732,` and add the line `'100*theta_s':1.04092`.\n",
    "4.   Compute the $C_\\ell$'s and convert them to $D_\\ell$'s.\n",
    "5.   In the lower cell, use `matplotlib` as above to plot the `LCDM` spectra using the label \"Planck bestfit cosmology\" and your new `test` spectra with the label \"Test cosmology\". Check that they agree!\n",
    "\n"
   ]
  },
  {
   "cell_type": "code",
   "execution_count": null,
   "metadata": {
    "id": "tBSdcxDhm3pk"
   },
   "outputs": [],
   "source": [
    "# Compute the Dl_TT_test with CLASS"
   ]
  },
  {
   "cell_type": "code",
   "execution_count": null,
   "metadata": {
    "id": "XfCoimycngsV"
   },
   "outputs": [],
   "source": [
    "# Plot the Planck bestfit cosmology along with the modified LCDM cosmology that you defined above"
   ]
  },
  {
   "cell_type": "markdown",
   "metadata": {
    "id": "mCr_OPxMtwkf"
   },
   "source": [
    "**<font color='Crimson'>(b) Exercise:</font>** Now, that you have your code set up above, we will explore how certain $\\Lambda$CDM parameters impact the CMB TT-power spectrum. For that, change **one parameter at a time** to a lower and a higher value than the *Planck* bestfit. Describe in words what you observe!\n",
    "\n",
    "How do the following parameters impact the CMB TT-power spectrum:\n",
    "- The cold-dark matter fraction $\\omega_\\mathrm{cdm}$?\n",
    "- The baryon fraction $\\omega_b$?\n",
    "- The amplitude of the primordial power spectrum $A_s$?\n",
    "- The tilt of the primordial power spectrum $n_s$?\n",
    "\n",
    "Make notes of what you find!"
   ]
  },
  {
   "cell_type": "markdown",
   "metadata": {
    "id": "ON4iLo_Bxh7N"
   },
   "source": [
    "# Part 2 - EDE"
   ]
  },
  {
   "cell_type": "markdown",
   "metadata": {
    "id": "_TAMimidyG0c"
   },
   "source": [
    "Let's add some exotic component to the universe that might be able to solve the Hubble tension:"
   ]
  },
  {
   "cell_type": "code",
   "execution_count": null,
   "metadata": {
    "id": "oAQycQBzySZu"
   },
   "outputs": [],
   "source": [
    "EDE = Class()\n",
    "EDE.set({'fEDE': 0.1271,\n",
    "         'log10z_c': 3.563,\n",
    "         'thetai_scf': 2.768,\n",
    "         'n_scf':3})"
   ]
  },
  {
   "cell_type": "markdown",
   "metadata": {
    "id": "lvGgPot9yxxg"
   },
   "source": [
    "This time we initialised a Class object and also set the EDE parameters:\n",
    "- $f_\\mathrm{EDE}$: the fraction of EDE at $z_c$\n",
    "- $\\log_{10}z_c$: the redshift at which the EDE field starts oscillating\n",
    "- $\\theta_{i, \\mathrm{scf}}$: the initial value of the scalar field in the potenital\n",
    "- $n_\\mathrm{scf}$: the index of the scalar field potential, $V(\\phi) = V_0 (1-\\cos(\\phi/f))^n$\n",
    "\n",
    "The parameters we set here are the bestfit parameters to CMB and galaxy clustering data from [here](https://arxiv.org/pdf/2210.16296)."
   ]
  },
  {
   "cell_type": "markdown",
   "metadata": {
    "id": "Gaboe0UFzt8k"
   },
   "source": [
    "We will also set the $\\Lambda$CDM parameters and some technical parameters:"
   ]
  },
  {
   "cell_type": "code",
   "execution_count": null,
   "metadata": {
    "id": "Lr0oZvPdzwn_"
   },
   "outputs": [],
   "source": [
    "fixed_cosmo_params = {'h': 0.7215,\n",
    "         'A_s': 2.155e-9,\n",
    "         'n_s':0.9917,\n",
    "         'omega_b': 0.02278,\n",
    "         'omega_cdm': 0.1324,\n",
    "         'tau_reio': 0.05682,\n",
    "         'N_ncdm': 1,\n",
    "         'N_ur': 2.0328,\n",
    "         'Omega_Lambda':0,\n",
    "         'Omega_fld':0,\n",
    "         'Omega_scf':-1,\n",
    "         'scf_parameters':'1, 1, 1, 1, 1, 0.0',\n",
    "         'scf_tuning_index':3,\n",
    "         'attractor_ic_scf':'no',\n",
    "         'CC_scf':1,\n",
    "         'output':'tCl,pCl,lCl,mPk',\n",
    "         'lensing':'yes'}\n",
    "EDE.set(fixed_cosmo_params)"
   ]
  },
  {
   "cell_type": "markdown",
   "metadata": {
    "id": "qTa007uW0DXN"
   },
   "source": [
    "Let's compute the EDE cosmology:"
   ]
  },
  {
   "cell_type": "code",
   "execution_count": null,
   "metadata": {
    "id": "78uotpQ30F4C"
   },
   "outputs": [],
   "source": [
    "EDE.compute()"
   ]
  },
  {
   "cell_type": "markdown",
   "metadata": {},
   "source": [
    "If this didn't work, make sure you are currently using `CLASS_EDE` and not `CLASS`."
   ]
  },
  {
   "cell_type": "markdown",
   "metadata": {
    "id": "JCdET42M0Pjm"
   },
   "source": [
    "Remember yesterday in \"Hands-on session 1\", when we computed the energy densities of the different components of the universe as a function of redshift? We can do the same with EDE:"
   ]
  },
  {
   "cell_type": "code",
   "execution_count": null,
   "metadata": {
    "id": "7gfzm6is0agm"
   },
   "outputs": [],
   "source": [
    "baEDE = EDE.get_background()\n",
    "baEDE.keys()"
   ]
  },
  {
   "cell_type": "markdown",
   "metadata": {
    "id": "ys13fTff5CtL"
   },
   "source": [
    "Since `rho_scf` contains both EDE and DE (i.e. a cosmological constant $\\Lambda$), we need to compute $\\Lambda$ independently and subract it from the scalar field to obtain the EDE contribution. Let's make a nice plot:"
   ]
  },
  {
   "cell_type": "code",
   "execution_count": null,
   "metadata": {
    "id": "HX2RY59t3UvI"
   },
   "outputs": [],
   "source": [
    "plt.figure()\n",
    "plt.xscale('log')\n",
    "plt.yscale('log')\n",
    "plt.xlim([0.1,2e4])\n",
    "plt.ylim([5e-10, 3e6])\n",
    "plt.xlabel('$z$')\n",
    "plt.ylabel(r'$\\rho(z)$')\n",
    "plt.plot(baEDE['z'],baEDE['(.)rho_tot'], c='black', label='total')\n",
    "rho_Lambda = baEDE['(.)rho_scf'][-1]\n",
    "plt.plot(baEDE['z'],baEDE['(.)rho_scf']-rho_Lambda,c='teal', label='EDE')\n",
    "plt.plot(baEDE['z'],baEDE['(.)rho_cdm']+baEDE['(.)rho_b'], c='blue', label='matter', ls=\"--\")\n",
    "plt.plot(baEDE['z'],baEDE['(.)rho_ur']+baEDE['(.)rho_g'], c='darkorange', label='radiation', ls=\"--\")\n",
    "plt.axhline(rho_Lambda, label=r\"$\\Lambda$\", color=\"red\", ls=\"--\")\n",
    "plt.legend()\n",
    "plt.show()"
   ]
  },
  {
   "cell_type": "markdown",
   "metadata": {
    "id": "126FWY9n6hSv"
   },
   "source": [
    "We can see that EDE is only non-negligible before $z\\approx 10^3$, which is around recombination, i.e. the time when the CMB was emitted."
   ]
  },
  {
   "cell_type": "markdown",
   "metadata": {
    "id": "l2qlvAcP6utw"
   },
   "source": [
    "Let's plot the fractional energy density of EDE to see this more clearly:"
   ]
  },
  {
   "cell_type": "code",
   "execution_count": null,
   "metadata": {
    "id": "1iTYjFSj0dgz"
   },
   "outputs": [],
   "source": [
    "plt.figure()\n",
    "plt.xscale('log')\n",
    "plt.xlim([1,2e4])\n",
    "plt.ylim([0,0.13])\n",
    "plt.xlabel('$z$')\n",
    "plt.ylabel(r'$\\Omega_{{\\rm EDE}}(z)/\\Omega_\\mathrm{tot}(z)$')\n",
    "plt.plot(baEDE['z'],(baEDE['(.)rho_scf']-rho_Lambda)/baEDE['(.)rho_tot'],c='teal', label=r'EDE')\n",
    "plt.legend(loc=\"upper left\")\n",
    "plt.show()"
   ]
  },
  {
   "cell_type": "markdown",
   "metadata": {
    "id": "L9L7RG8c7BeQ"
   },
   "source": [
    "At high redshifts, EDE's contribution to the energy density grows rapidly, then it peaks at the critical redshift $z_c \\approx 4\\cdot 10^3$ and decays after in a few oscillations."
   ]
  },
  {
   "cell_type": "markdown",
   "metadata": {
    "id": "hnj2BFOOVwqO"
   },
   "source": [
    "Let's also compute the CMB power spectra for the EDE model:"
   ]
  },
  {
   "cell_type": "code",
   "execution_count": null,
   "metadata": {
    "id": "QT0wbQNaV61g"
   },
   "outputs": [],
   "source": [
    "cls_EDE = EDE.lensed_cl(2500)\n",
    "Cl_TT_EDE = cls_EDE['tt'][2:]\n",
    "Cl_TE_EDE = cls_EDE['te'][2:]\n",
    "Cl_EE_EDE = cls_EDE['ee'][2:]\n",
    "ll_EDE = cls_EDE['ell'][2:]"
   ]
  },
  {
   "cell_type": "code",
   "execution_count": null,
   "metadata": {
    "id": "rSr4LBz_WU7p"
   },
   "outputs": [],
   "source": [
    "Dl_TT_EDE = ll_EDE*(ll_EDE+1)*Cl_TT_EDE/(2*np.pi)*T_CMB**2\n",
    "Dl_TE_EDE = ll_EDE*(ll_EDE+1)*Cl_TE_EDE/(2*np.pi)*T_CMB**2\n",
    "Dl_EE_EDE = ll_EDE*(ll_EDE+1)*Cl_EE_EDE/(2*np.pi)*T_CMB**2"
   ]
  },
  {
   "cell_type": "markdown",
   "metadata": {
    "id": "Y1Nis4ksJw3N"
   },
   "source": [
    "And compare them to the *Planck* TT power spectrum:"
   ]
  },
  {
   "cell_type": "code",
   "execution_count": null,
   "metadata": {
    "id": "eg3ACH45JzO1"
   },
   "outputs": [],
   "source": [
    "plt.title(\"TT\")\n",
    "plt.plot(ll_EDE, Dl_TT_EDE, label=\"EDE model\", color=\"green\")\n",
    "plt.errorbar(ll_TT_Planck, Dl_TT_Planck, sigma_TT_Planck, ls=\"\", marker=\".\", label=r\"Planck data\", color=\"tab:orange\")\n",
    "plt.xlabel(r\"$\\ell$\")\n",
    "plt.ylabel(r\"$\\ell(\\ell+1)\\,C^\\mathrm{TT}_\\ell/(2\\pi)$\")\n",
    "plt.rcParams[\"figure.figsize\"] = (7,5)\n",
    "plt.legend()\n",
    "plt.show()"
   ]
  },
  {
   "cell_type": "markdown",
   "metadata": {
    "id": "HSOIWOPJKjdQ"
   },
   "source": [
    "By eye, the EDE model fits the TT spectrum as well as $\\Lambda$CDM above."
   ]
  },
  {
   "cell_type": "markdown",
   "metadata": {
    "id": "tMsN9VEb3eQc"
   },
   "source": [
    "**<font color='Crimson'>(c) Exercise:</font>** EDE was constructed in such a way as not to change the fit to the CMB power spectra much but still achieve a higher $H_0$. Compute $h=H_0/$ (100 km/s/Mpc) for the $\\Lambda$CDM and EDE models in the cell below to verify that $H_0$ increased!"
   ]
  },
  {
   "cell_type": "code",
   "execution_count": null,
   "metadata": {
    "id": "pvnNqh_j4DpT"
   },
   "outputs": [],
   "source": [
    "# Compute h_LCDM and h_EDE"
   ]
  },
  {
   "cell_type": "markdown",
   "metadata": {
    "id": "zEvoNaFERPUF"
   },
   "source": [
    "# Part 3 - Analysing $\\Lambda$CDM and EDE with CMB and supernova data"
   ]
  },
  {
   "cell_type": "markdown",
   "metadata": {
    "id": "1iKzRKacKSw8"
   },
   "source": [
    "Now, we want to quantify how well our theory predictions fit the real data. One measure of goodness of fit is the $\\chi^2$-function:\n",
    "\n",
    "$$\\chi^2_\\mathrm{Planck} = \\sum_i (C_\\ell^\\mathrm{theory} - C_\\ell^\\mathrm{data})^T \\Sigma^{-1} (C_\\ell^\\mathrm{theory} - C_\\ell^\\mathrm{data}),$$\n",
    "\n",
    "where $\\Sigma$ is the covariance matrix of the data."
   ]
  },
  {
   "cell_type": "markdown",
   "metadata": {
    "id": "FajE7WRHRwM7"
   },
   "source": [
    "To compute the $\\chi^2$, we need the covariance matrix. The covariance matrix is published within the `plik_lite` likelihood of ESA's [*Planck* legacy archive](http://pla.esac.esa.int/pla/#home) but I also copied them to [my github](https://github.com/LauraHerold/CosmoVerseSchool_Corfu/raw/main/plik_lite/). You probably downloaded the covariance matrix \"c_matrix_plik_v22.dat\" along with the power spectra earlier."
   ]
  },
  {
   "cell_type": "markdown",
   "metadata": {
    "id": "aSq-4RpZTDI_"
   },
   "source": [
    "The covariance matrix is saved as an upper diagonal matrix, so we need to symmetrize it:"
   ]
  },
  {
   "cell_type": "code",
   "execution_count": null,
   "metadata": {
    "id": "bV-__3r3SoNN"
   },
   "outputs": [],
   "source": [
    "dt = np.dtype([('header', np.int32, 1), ('cov', np.float64, (375769,))])\n",
    "temp = np.fromfile(fn+\"/c_matrix_plik_v22.dat\", dtype=dt, count=1)\n",
    "cov = temp['cov'].copy().reshape(613,613)\n",
    "for i in range(613):\n",
    "            for j in range(i,613):\n",
    "                cov[i,j] = cov[j,i]"
   ]
  },
  {
   "cell_type": "markdown",
   "metadata": {
    "id": "2GtWqPLkTKl-"
   },
   "source": [
    "This covariance matrix is one big matrix containing the covariance of the TT, TE, and EE CMB power spectra."
   ]
  },
  {
   "cell_type": "markdown",
   "metadata": {
    "id": "dJD6dayXT_4T"
   },
   "source": [
    "We will need to save our theory-$C_\\ell$'s in the same format:"
   ]
  },
  {
   "cell_type": "code",
   "execution_count": null,
   "metadata": {
    "id": "2x2j7B6VUEee"
   },
   "outputs": [],
   "source": [
    "ll_TT_int = ll_TT_Planck.astype(int)-2\n",
    "ll_TE_int = ll_TE_Planck.astype(int)-2\n",
    "ll_EE_int = ll_EE_Planck.astype(int)-2\n",
    "Cls_LCDM = np.append(np.append(Cl_TT_LCDM[ll_TT_int], Cl_TE_LCDM[ll_TE_int]), Cl_EE_LCDM[ll_EE_int])*T_CMB**2\n",
    "Cls_EDE = np.append(np.append(Cl_TT_EDE[ll_TT_int], Cl_TE_EDE[ll_TE_int]), Cl_EE_EDE[ll_EE_int])*T_CMB**2"
   ]
  },
  {
   "cell_type": "markdown",
   "metadata": {
    "id": "4onwybkuXGPc"
   },
   "source": [
    "To compute the $\\chi^2$, we need to invert the covariance matrix:"
   ]
  },
  {
   "cell_type": "code",
   "execution_count": null,
   "metadata": {
    "id": "K87kUI1HUPm4"
   },
   "outputs": [],
   "source": [
    "inv_cov = np.linalg.inv(cov)"
   ]
  },
  {
   "cell_type": "markdown",
   "metadata": {
    "id": "mmKdL17XW5Bo"
   },
   "source": [
    "Let's write a function that computes the $\\chi^2$ of *Planck* data:"
   ]
  },
  {
   "cell_type": "code",
   "execution_count": null,
   "metadata": {
    "id": "qmMiCxVxcAVq"
   },
   "outputs": [],
   "source": [
    "def chi2_Planck(Cls_theo):\n",
    "  chi2 = np.matmul(np.matmul((Cls_theo-Cls_Planck).T, inv_cov), (Cls_theo-Cls_Planck))\n",
    "  return chi2"
   ]
  },
  {
   "cell_type": "markdown",
   "metadata": {
    "id": "4EygNWG1hfF4"
   },
   "source": [
    "And compute the $\\chi^2$ of the $\\Lambda$CDM model with parameters obtained by *Planck*:"
   ]
  },
  {
   "cell_type": "code",
   "execution_count": null,
   "metadata": {
    "id": "WfRsK17UW1YD"
   },
   "outputs": [],
   "source": [
    "print(chi2_Planck(Cls_LCDM))"
   ]
  },
  {
   "cell_type": "markdown",
   "metadata": {
    "id": "A5u7Ga9UYMLQ"
   },
   "source": [
    "**<font color='Crimson'>(d) Exercise:</font>** Use the function `chi2_Planck()` to compute the $\\chi^2$ of the EDE model in the cell below!"
   ]
  },
  {
   "cell_type": "code",
   "execution_count": null,
   "metadata": {
    "id": "jrCc0WuuXX7g"
   },
   "outputs": [],
   "source": [
    "# compute chi2_EDE_Planck"
   ]
  },
  {
   "cell_type": "markdown",
   "metadata": {
    "id": "3SYuHyiSYyhE"
   },
   "source": [
    "A smaller $\\chi^2$ means a better fit to the data. You should find a difference of a few: $\\Delta\\chi^2 \\sim \\mathcal{O}(1)$, which is not significant."
   ]
  },
  {
   "cell_type": "markdown",
   "metadata": {
    "id": "FgZsw_1BZN-g"
   },
   "source": [
    "Remember that EDE was constructed in such a way as not to change the fit to the CMB data significantly but still achieve a higher $H_0$. Hence, to see how EDE resolves the $H_0$ tension, we need to include a direct measurement of $H_0$. The most competitive direct measurement to date uses Cepheid-calibrated type-Ia supernovae. The [2022 paper by the SH0ES collaboration](https://arxiv.org/pdf/2112.04510) uses this techique."
   ]
  },
  {
   "cell_type": "markdown",
   "metadata": {
    "id": "tfAerGnzaHNA"
   },
   "source": [
    "**<font color='Crimson'>(e) Exercise:</font>** In this exercise you will write a function to compute the $\\chi^2$ of the SH0ES-$H_0$ measurment.\n",
    "\n",
    "\n",
    "1.   Open the paper by the SH0ES collaboration, which is linked above, and find $H_0$ its 1$\\sigma$-errorbar $\\sigma_{H_0}$ (use the baseline result).\n",
    "2.   Define the dimensionless parameter $h=H_0/(100\\,\\mathrm{km/s/Mpc})$. Note that you also have to rescale $\\sigma_h = \\sigma_{H_0}/(100\\,\\mathrm{km/s/Mpc})$\n",
    "3.   Since this is a direct measurement of a single parameter, there is no correlation, i.e. no covariance matrix, and the $\\chi^2$ simplifies to\n",
    "$$ \\chi^2_h = \\frac{(h_\\mathrm{data} - h_\\mathrm{theory})^2}{\\sigma_h^2}$$\n",
    "Write a function `chi2_SH0ES(h_theory)` that computes $\\chi^2_h$ for a given $h$ obtained from theory!\n",
    "4.   Use your function to compute $\\chi^2_h$ of $h_{\\Lambda\\mathrm{CDM}}$ and $h_\\mathrm{EDE}$!\n",
    "\n"
   ]
  },
  {
   "cell_type": "code",
   "execution_count": null,
   "metadata": {
    "id": "qA9e2JyUXkC-"
   },
   "outputs": [],
   "source": [
    "# Define chi2_SH0ES(h)"
   ]
  },
  {
   "cell_type": "code",
   "execution_count": null,
   "metadata": {
    "id": "3OzPcv57bnaS"
   },
   "outputs": [],
   "source": [
    "# Compute chi2_SH0ES(LCDM.h()) and chi2_SH0ES(EDE.h())"
   ]
  },
  {
   "cell_type": "markdown",
   "metadata": {
    "id": "LFaAwHGRyPY6"
   },
   "source": [
    "One may now ask the question which model presents the better fit to the data, is it $\\Lambda$CDM or EDE? One simple approach to answer this question is by considering the difference in $\\chi^2$:\n",
    "$$ \\Delta\\chi^2 = \\chi^2_{\\Lambda\\mathrm{CDM}}-\\chi^2_\\mathrm{EDE}$$\n",
    "Since the models are nested, i.e. the $\\Lambda$CDM model is a subset of the EDE model (namely for $f_\\mathrm{EDE}=0$), one can make use of Wilks' theorem:\n",
    "\n",
    "The $\\Delta\\chi^2$ is distributed as a $\\chi^2$-distribution with $n$ degrees of freedom, where $n$ is the number of extra parameters in the model with more parameters, i.e. here $n=3$. E.g. for $n=3$, $\\Delta\\chi^2 \\approx 14$ corresponds to $3\\sigma$ significance, $\\Delta\\chi^2\\approx 22$ corresponds to $4\\sigma$, and $\\Delta\\chi^2 \\approx 32$ corresponds to $5\\sigma$, etc."
   ]
  },
  {
   "cell_type": "markdown",
   "metadata": {
    "id": "HZBis_bmCkMG"
   },
   "source": [
    "**<font color='Crimson'>(e) Exercise:</font>** Compute $\\Delta\\chi^2$ as defined above!"
   ]
  },
  {
   "cell_type": "code",
   "execution_count": null,
   "metadata": {
    "id": "qQLBCzQr8TBB"
   },
   "outputs": [],
   "source": [
    "# Compute Delta chi^2"
   ]
  },
  {
   "cell_type": "markdown",
   "metadata": {
    "id": "mZSHHUAi26yV"
   },
   "source": [
    "**<font color='red'>WARNING:</font>** These results should be taken as a toy example. The cosmologies for $\\Lambda$CDM and EDE that we are using here were obtained from a different data set (i.e. the full *Planck* likelihood) than the one we are using here to compute the goodness of fit."
   ]
  },
  {
   "cell_type": "markdown",
   "metadata": {
    "id": "p35uxoHjzhyT"
   },
   "source": [
    "**Conclusions:** In this exercise, we learned how to use `CLASS` and its EDE extension to predict the CMB power spectra, the time evolution of energy densities and the Hubble constant. We used this to quantify the goodness of fit to CMB data and a direct measurement of $H_0$. We saw how EDE can improve the goodness of fit to these data sets.\n",
    "\n",
    "\n"
   ]
  },
  {
   "cell_type": "markdown",
   "metadata": {
    "id": "RVWbVaeG0itE"
   },
   "source": [
    "# Additional optional exercises"
   ]
  },
  {
   "cell_type": "markdown",
   "metadata": {
    "id": "S77nBNEh0xiz"
   },
   "source": [
    "Here are some additional exercises, which you can do if you finish early or at home."
   ]
  },
  {
   "cell_type": "markdown",
   "metadata": {
    "id": "Ms_eIO8p3fWt"
   },
   "source": [
    "**<font color='Crimson'>(f) Exercise:</font>** Explore how different values of\n",
    "- $f_\\mathrm{EDE}$\n",
    "- $\\log_{10}z_c$\n",
    "- $\\theta_{i, \\mathrm{scf}}$\n",
    "- $n_\\mathrm{scf}$\n",
    "\n",
    "impact $\\Omega_\\mathrm{EDE}$ by varying one parameter at a time. Take notes of what you find!"
   ]
  },
  {
   "cell_type": "markdown",
   "metadata": {
    "id": "Hvp7sZuZ1tDc"
   },
   "source": [
    "**<font color='Crimson'>(g) Exercise:</font>** Install the codes you need for the [next hands-on session](https://gitlab.com/matmartinelli/cosmoverse_school)."
   ]
  },
  {
   "cell_type": "markdown",
   "metadata": {
    "id": "HQAKOfug1yhU"
   },
   "source": [
    "**<font color='Crimson'>(h) Exercise:</font>** Use the tools introduced in this lecture to resolve the Hubble tension!"
   ]
  }
 ],
 "metadata": {
  "colab": {
   "collapsed_sections": [
    "opJV0sfkagio",
    "ON4iLo_Bxh7N",
    "zEvoNaFERPUF",
    "RVWbVaeG0itE"
   ],
   "provenance": []
  },
  "kernelspec": {
   "display_name": "Python 3",
   "language": "python",
   "name": "python3"
  },
  "language_info": {
   "codemirror_mode": {
    "name": "ipython",
    "version": 3
   },
   "file_extension": ".py",
   "mimetype": "text/x-python",
   "name": "python",
   "nbconvert_exporter": "python",
   "pygments_lexer": "ipython3",
   "version": "3.7.4"
  }
 },
 "nbformat": 4,
 "nbformat_minor": 1
}
